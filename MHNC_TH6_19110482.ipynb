{
  "cells": [
    {
      "cell_type": "markdown",
      "source": [
        "## Môn: Máy học nâng cao\n",
        "* Sinh viên: Huỳnh Thị Bảo Trân\n",
        "* MSSV: 19110482\n",
        "* Bài thực hành: lab06"
      ],
      "metadata": {
        "id": "MSTqwNs9Jpl5"
      }
    },
    {
      "cell_type": "markdown",
      "metadata": {
        "id": "p--NpOmp9Cll"
      },
      "source": [
        "***Bài Thực Hành 06: GAN***\n",
        "1. Tìm Hiểu cách hoạt động của GAN bằng các lớp Fully-Connected, bằng cách overwrite lên hàm train_step trong Keras.Model\n",
        "2. Thử tạo ra một mô hình DCGAN"
      ]
    },
    {
      "cell_type": "code",
      "execution_count": 1,
      "metadata": {
        "id": "yZ9uoe6u-X84"
      },
      "outputs": [],
      "source": [
        "#Thư viện\n",
        "import tensorflow as tf\n",
        "from tensorflow import keras\n",
        "from tensorflow.keras import layers\n",
        "import numpy as np"
      ]
    },
    {
      "cell_type": "code",
      "execution_count": 2,
      "metadata": {
        "id": "PVHVLO5h_-eI",
        "colab": {
          "base_uri": "https://localhost:8080/"
        },
        "outputId": "4a081b96-0ffe-4a5c-f69a-b8dbec6be80b"
      },
      "outputs": [
        {
          "output_type": "stream",
          "name": "stdout",
          "text": [
            "Downloading data from https://storage.googleapis.com/tensorflow/tf-keras-datasets/mnist.npz\n",
            "11490434/11490434 [==============================] - 0s 0us/step\n"
          ]
        }
      ],
      "source": [
        "batch_size = 128 # batch size để đưa vào mô hình huấn luyện\n",
        "(x_train, y_train), (x_test, y_test) = keras.datasets.mnist.load_data() #đọc dữ liệu\n",
        "all_digits = np.concatenate([x_train, x_test]) \n",
        "all_digits = all_digits.astype(\"float32\") / 255 #đưa tấm hình về [0,1]\n",
        "all_digits = np.reshape(all_digits,(-1,28,28,1)) #reshape toàn bộ dữ liệu lại\n",
        "dataset=tf.data.Dataset.from_tensor_slices(all_digits) #Đưa dữ liệu về dạng tensor\n",
        "dataset = dataset.shuffle(buffer_size=1024).batch(batch_size).prefetch(32) #shuffle dữ liệu mỗi lần đưa vào mô hình"
      ]
    },
    {
      "cell_type": "code",
      "execution_count": 3,
      "metadata": {
        "colab": {
          "base_uri": "https://localhost:8080/"
        },
        "id": "KgT3nZCWlRzY",
        "outputId": "662f130a-04ed-483a-81f6-7ed5212600f0"
      },
      "outputs": [
        {
          "output_type": "stream",
          "name": "stdout",
          "text": [
            "Model: \"sequential\"\n",
            "_________________________________________________________________\n",
            " Layer (type)                Output Shape              Param #   \n",
            "=================================================================\n",
            " flatten (Flatten)           (None, 784)               0         \n",
            "                                                                 \n",
            " dense (Dense)               (None, 1024)              803840    \n",
            "                                                                 \n",
            " leaky_re_lu (LeakyReLU)     (None, 1024)              0         \n",
            "                                                                 \n",
            " dropout (Dropout)           (None, 1024)              0         \n",
            "                                                                 \n",
            " dense_1 (Dense)             (None, 512)               524800    \n",
            "                                                                 \n",
            " leaky_re_lu_1 (LeakyReLU)   (None, 512)               0         \n",
            "                                                                 \n",
            " dropout_1 (Dropout)         (None, 512)               0         \n",
            "                                                                 \n",
            " dense_2 (Dense)             (None, 256)               131328    \n",
            "                                                                 \n",
            " leaky_re_lu_2 (LeakyReLU)   (None, 256)               0         \n",
            "                                                                 \n",
            " dropout_2 (Dropout)         (None, 256)               0         \n",
            "                                                                 \n",
            " dense_3 (Dense)             (None, 1)                 257       \n",
            "                                                                 \n",
            " sigmoid (Activation)        (None, 1)                 0         \n",
            "                                                                 \n",
            "=================================================================\n",
            "Total params: 1,460,225\n",
            "Trainable params: 1,460,225\n",
            "Non-trainable params: 0\n",
            "_________________________________________________________________\n"
          ]
        }
      ],
      "source": [
        "#mô hình của mạng Discrimimator\n",
        "discriminator=keras.Sequential()\n",
        "\n",
        "discriminator.add(keras.Input(shape=(28,28,1)))\n",
        "\n",
        "discriminator.add(keras.layers.Flatten())\n",
        "\n",
        "discriminator.add(keras.layers.Dense(units=1024))\n",
        "discriminator.add(keras.layers.LeakyReLU(alpha=0.2))\n",
        "discriminator.add(keras.layers.Dropout(0.3))\n",
        "\n",
        "discriminator.add(keras.layers.Dense(units=512))\n",
        "discriminator.add(keras.layers.LeakyReLU(alpha=0.2))\n",
        "discriminator.add(keras.layers.Dropout(0.3))\n",
        "\n",
        "discriminator.add(keras.layers.Dense(units=256))\n",
        "discriminator.add(keras.layers.LeakyReLU(alpha=0.2))\n",
        "discriminator.add(keras.layers.Dropout(0.3))\n",
        "\n",
        "discriminator.add(keras.layers.Dense(1))\n",
        "\n",
        "discriminator.add(keras.layers.Activation(activation=\"sigmoid\",name=\"sigmoid\"))  #do đây là mô hình dự đoán cho 2 nhãn nên dùng sigmoid\n",
        "\n",
        "discriminator.summary()"
      ]
    },
    {
      "cell_type": "code",
      "execution_count": 4,
      "metadata": {
        "colab": {
          "base_uri": "https://localhost:8080/"
        },
        "id": "a83CJzPbiS1K",
        "outputId": "45bdd75b-ea4e-46c4-fb6f-fe5f4a790e8d"
      },
      "outputs": [
        {
          "output_type": "stream",
          "name": "stdout",
          "text": [
            "Model: \"sequential_1\"\n",
            "_________________________________________________________________\n",
            " Layer (type)                Output Shape              Param #   \n",
            "=================================================================\n",
            " dense_4 (Dense)             (None, 256)               25856     \n",
            "                                                                 \n",
            " leaky_re_lu_3 (LeakyReLU)   (None, 256)               0         \n",
            "                                                                 \n",
            " dense_5 (Dense)             (None, 512)               131584    \n",
            "                                                                 \n",
            " leaky_re_lu_4 (LeakyReLU)   (None, 512)               0         \n",
            "                                                                 \n",
            " dense_6 (Dense)             (None, 1024)              525312    \n",
            "                                                                 \n",
            " leaky_re_lu_5 (LeakyReLU)   (None, 1024)              0         \n",
            "                                                                 \n",
            " dense_7 (Dense)             (None, 784)               803600    \n",
            "                                                                 \n",
            " sigmoid (Activation)        (None, 784)               0         \n",
            "                                                                 \n",
            " reshape (Reshape)           (None, 28, 28, 1)         0         \n",
            "                                                                 \n",
            "=================================================================\n",
            "Total params: 1,486,352\n",
            "Trainable params: 1,486,352\n",
            "Non-trainable params: 0\n",
            "_________________________________________________________________\n"
          ]
        }
      ],
      "source": [
        "#mô hình của mạng Generator\n",
        "latten_dim=100\n",
        "generator=keras.Sequential()\n",
        "\n",
        "generator.add(keras.Input(shape=(latten_dim,)))\n",
        "\n",
        "generator.add(keras.layers.Dense(units=256))\n",
        "generator.add(keras.layers.LeakyReLU(alpha=0.2))\n",
        "\n",
        "generator.add(keras.layers.Dense(units=512))\n",
        "generator.add(keras.layers.LeakyReLU(alpha=0.2))\n",
        "\n",
        "generator.add(keras.layers.Dense(units=1024))\n",
        "generator.add(keras.layers.LeakyReLU(alpha=0.2))\n",
        "\n",
        "generator.add(keras.layers.Dense(units=28*28))\n",
        "generator.add(keras.layers.Activation(activation=\"sigmoid\",name=\"sigmoid\"))  #Đưa về một tấm ảnh nên dùng sigmoid để về [0,1]\n",
        "\n",
        "generator.add(keras.layers.Reshape((28,28,1)))\n",
        "\n",
        "generator.summary()"
      ]
    },
    {
      "cell_type": "code",
      "execution_count": 5,
      "metadata": {
        "id": "hQiq0BZfBDZ_"
      },
      "outputs": [],
      "source": [
        "from numpy.core.fromnumeric import reshape\n",
        "class Gan(keras.Model):\n",
        "    def __init__(self, discriminator, generator, latent_dim):\n",
        "        super(Gan,self).__init__()\n",
        "        self.discriminator=discriminator \n",
        "        self.generator=generator\n",
        "        self.latent_dim=latent_dim\n",
        "    def compile(self, d_optimizer, g_optimizer, loss_function):\n",
        "        super(Gan,self).compile()\n",
        "        self.d_optimizer=d_optimizer\n",
        "        self.g_optimizer=g_optimizer\n",
        "        self.loss_function=loss_function \n",
        "    def train_step(self, real_images):\n",
        "        # tạo batch size từ dữ liệu đầu vào\n",
        "        batch_size = tf.shape(real_images)[0]\n",
        "        random_latent_vectors = tf.random.normal(shape=(batch_size, self.latent_dim)) #tạo noises theo phân phối chuẩn\n",
        "\n",
        "        # Tạo ra ảnh giả từ mạng generator\n",
        "        generated_images = self.generator(random_latent_vectors)\n",
        "\n",
        "        # nối ảnh giả và ảnh thật làm bộ dữ liệu cho mô hình discriminator\n",
        "        combined_images = tf.concat([generated_images, real_images], axis=0)\n",
        "\n",
        "        # Ở đây đánh nhãn ảnh thật là 1, ảnh giả là 0\n",
        "        labels = tf.concat(\n",
        "            [tf.ones((batch_size, 1)), tf.zeros((batch_size, 1))], axis=0\n",
        "        )\n",
        "        # trick để add thêm noise cho nhãn\n",
        "        labels += 0.05 * tf.random.uniform(tf.shape(labels))\n",
        "\n",
        "        # huấn luyện discriminator\n",
        "        with tf.GradientTape() as tape:\n",
        "            predictions = self.discriminator(combined_images) #Dự đoán \n",
        "            d_loss = self.loss_function(labels, predictions)  #Đưa kết quả dự đoán và grouth-truth vào hàm loss\n",
        "        grads = tape.gradient(d_loss, self.discriminator.trainable_weights)\n",
        "        self.d_optimizer.apply_gradients(\n",
        "            zip(grads, self.discriminator.trainable_weights)\n",
        "        ) #cập nhật weights cho mô hình discrimunator\n",
        "\n",
        "\n",
        "        # lặp lại bước tạo noise như ở trên\n",
        "        random_latent_vectors = tf.random.normal(shape=(batch_size, self.latent_dim))\n",
        "\n",
        "        # tạo mộ bộ nhãn sao cho đều là 1 để đánh lừa discriminator\n",
        "        misleading_labels = tf.zeros((batch_size, 1))\n",
        "\n",
        "        # Train generator (lưu ý k update weights cho discriminator)\n",
        "        with tf.GradientTape() as tape:\n",
        "            predictions = self.discriminator(self.generator(random_latent_vectors))\n",
        "            g_loss = self.loss_function(misleading_labels, predictions)\n",
        "        grads = tape.gradient(g_loss, self.generator.trainable_weights)\n",
        "        self.g_optimizer.apply_gradients(zip(grads, self.generator.trainable_weights))\n",
        "        return {\"d_loss\": d_loss, \"g_loss\": g_loss}"
      ]
    },
    {
      "cell_type": "code",
      "execution_count": 6,
      "metadata": {
        "id": "MLH0g6lEFrSW"
      },
      "outputs": [],
      "source": [
        "#overwrite callback để lúc huấn luyện xem ảnh in ra\n",
        "from IPython.display import Image, display\n",
        "class GANMonitor(keras.callbacks.Callback):\n",
        "    def __init__(self, num_img=3, latent_dim=100):\n",
        "        self.num_img = num_img\n",
        "        self.latent_dim = latent_dim\n",
        "\n",
        "    def on_epoch_end(self, epoch, logs=None):\n",
        "        random_latent_vectors = tf.random.normal(shape=(self.num_img, self.latent_dim)) #Tạo noises\n",
        "        generated_images = self.model.generator(random_latent_vectors) #tạo ảnh\n",
        "        generated_images *= 255 #Đưa ảnh về [0,255]\n",
        "        generated_images.numpy() \n",
        "        print(\"epoch \",epoch)\n",
        "        for i in range(self.num_img):\n",
        "            img = keras.preprocessing.image.array_to_img(generated_images[i])\n",
        "            display(img) #in ảnh"
      ]
    },
    {
      "cell_type": "code",
      "execution_count": 7,
      "metadata": {
        "id": "ZESj3ooVDNQT",
        "colab": {
          "base_uri": "https://localhost:8080/",
          "height": 1000
        },
        "outputId": "ccd894bf-50c4-4fe3-f5a4-b3e05b6fbcca"
      },
      "outputs": [
        {
          "output_type": "stream",
          "name": "stdout",
          "text": [
            "epoch  0\n"
          ]
        },
        {
          "output_type": "display_data",
          "data": {
            "text/plain": [
              "<PIL.Image.Image image mode=L size=28x28 at 0x7FFA4C37F130>"
            ],
            "image/png": "[encoded data removed]"
          },
          "metadata": {}
        },
        {
          "output_type": "display_data",
          "data": {
            "text/plain": [
              "<PIL.Image.Image image mode=L size=28x28 at 0x7FFA4C179700>"
            ],
            "image/png": "[encoded data removed]"
          },
          "metadata": {}
        },
        {
          "output_type": "display_data",
          "data": {
            "text/plain": [
              "<PIL.Image.Image image mode=L size=28x28 at 0x7FFA34795A30>"
            ],
            "image/png": "[encoded data removed]"
          },
          "metadata": {}
        },
        {
          "output_type": "stream",
          "name": "stdout",
          "text": [
            "epoch  1\n"
          ]
        },
        {
          "output_type": "display_data",
          "data": {
            "text/plain": [
              "<PIL.Image.Image image mode=L size=28x28 at 0x7FFA347AC460>"
            ],
            "image/png": "[encoded data removed]"
          },
          "metadata": {}
        },
        {
          "output_type": "display_data",
          "data": {
            "text/plain": [
              "<PIL.Image.Image image mode=L size=28x28 at 0x7FFA347ACA00>"
            ],
            "image/png": "[encoded data removed]"
          },
          "metadata": {}
        },
        {
          "output_type": "display_data",
          "data": {
            "text/plain": [
              "<PIL.Image.Image image mode=L size=28x28 at 0x7FFA4C16EE80>"
            ],
            "image/png": "[encoded data removed]"
          },
          "metadata": {}
        },
        {
          "output_type": "stream",
          "name": "stdout",
          "text": [
            "epoch  2\n"
          ]
        },
        {
          "output_type": "display_data",
          "data": {
            "text/plain": [
              "<PIL.Image.Image image mode=L size=28x28 at 0x7FFA3474DF70>"
            ],
            "image/png": "[encoded data removed]"
          },
          "metadata": {}
        },
        {
          "output_type": "display_data",
          "data": {
            "text/plain": [
              "<PIL.Image.Image image mode=L size=28x28 at 0x7FFA3474B070>"
            ],
            "image/png": "[encoded data removed]"
          },
          "metadata": {}
        },
        {
          "output_type": "display_data",
          "data": {
            "text/plain": [
              "<PIL.Image.Image image mode=L size=28x28 at 0x7FFA34749CD0>"
            ],
            "image/png": "[encoded data removed]"
          },
          "metadata": {}
        },
        {
          "output_type": "stream",
          "name": "stdout",
          "text": [
            "epoch  3\n"
          ]
        },
        {
          "output_type": "display_data",
          "data": {
            "text/plain": [
              "<PIL.Image.Image image mode=L size=28x28 at 0x7FFA34763FD0>"
            ],
            "image/png": "[encoded data removed]"
          },
          "metadata": {}
        },
        {
          "output_type": "display_data",
          "data": {
            "text/plain": [
              "<PIL.Image.Image image mode=L size=28x28 at 0x7FFA4C0D3C70>"
            ],
            "image/png": "[encoded data removed]"
          },
          "metadata": {}
        },
        {
          "output_type": "display_data",
          "data": {
            "text/plain": [
              "<PIL.Image.Image image mode=L size=28x28 at 0x7FFA4C06A850>"
            ],
            "image/png": "[encoded data removed]"
          },
          "metadata": {}
        },
        {
          "output_type": "stream",
          "name": "stdout",
          "text": [
            "epoch  4\n"
          ]
        },
        {
          "output_type": "display_data",
          "data": {
            "text/plain": [
              "<PIL.Image.Image image mode=L size=28x28 at 0x7FFA347504C0>"
            ],
            "image/png": "[encoded data removed]"
          },
          "metadata": {}
        },
        {
          "output_type": "display_data",
          "data": {
            "text/plain": [
              "<PIL.Image.Image image mode=L size=28x28 at 0x7FFA3475A0A0>"
            ],
            "image/png": "[encoded data removed]"
          },
          "metadata": {}
        },
        {
          "output_type": "display_data",
          "data": {
            "text/plain": [
              "<PIL.Image.Image image mode=L size=28x28 at 0x7FFA347634F0>"
            ],
            "image/png": "[encoded data removed]"
          },
          "metadata": {}
        },
        {
          "output_type": "stream",
          "name": "stdout",
          "text": [
            "epoch  5\n"
          ]
        },
        {
          "output_type": "display_data",
          "data": {
            "text/plain": [
              "<PIL.Image.Image image mode=L size=28x28 at 0x7FFA34749CD0>"
            ],
            "image/png": "[encoded data removed]"
          },
          "metadata": {}
        },
        {
          "output_type": "display_data",
          "data": {
            "text/plain": [
              "<PIL.Image.Image image mode=L size=28x28 at 0x7FFA3475CEE0>"
            ],
            "image/png": "[encoded data removed]"
          },
          "metadata": {}
        },
        {
          "output_type": "display_data",
          "data": {
            "text/plain": [
              "<PIL.Image.Image image mode=L size=28x28 at 0x7FFA347634F0>"
            ],
            "image/png": "[encoded data removed]"
          },
          "metadata": {}
        },
        {
          "output_type": "stream",
          "name": "stdout",
          "text": [
            "epoch  6\n"
          ]
        },
        {
          "output_type": "display_data",
          "data": {
            "text/plain": [
              "<PIL.Image.Image image mode=L size=28x28 at 0x7FFA3475A0A0>"
            ],
            "image/png": "[encoded data removed]"
          },
          "metadata": {}
        },
        {
          "output_type": "display_data",
          "data": {
            "text/plain": [
              "<PIL.Image.Image image mode=L size=28x28 at 0x7FFA347504C0>"
            ],
            "image/png": "[encoded data removed]"
          },
          "metadata": {}
        },
        {
          "output_type": "display_data",
          "data": {
            "text/plain": [
              "<PIL.Image.Image image mode=L size=28x28 at 0x7FFB2B40B4F0>"
            ],
            "image/png": "[encoded data removed]"
          },
          "metadata": {}
        },
        {
          "output_type": "stream",
          "name": "stdout",
          "text": [
            "epoch  7\n"
          ]
        },
        {
          "output_type": "display_data",
          "data": {
            "text/plain": [
              "<PIL.Image.Image image mode=L size=28x28 at 0x7FFA347504C0>"
            ],
            "image/png": "[encoded data removed]"
          },
          "metadata": {}
        },
        {
          "output_type": "display_data",
          "data": {
            "text/plain": [
              "<PIL.Image.Image image mode=L size=28x28 at 0x7FFA347634F0>"
            ],
            "image/png": "[encoded data removed]"
          },
          "metadata": {}
        },
        {
          "output_type": "display_data",
          "data": {
            "text/plain": [
              "<PIL.Image.Image image mode=L size=28x28 at 0x7FFA347504C0>"
            ],
            "image/png": "[encoded data removed]"
          },
          "metadata": {}
        },
        {
          "output_type": "stream",
          "name": "stdout",
          "text": [
            "epoch  8\n"
          ]
        },
        {
          "output_type": "display_data",
          "data": {
            "text/plain": [
              "<PIL.Image.Image image mode=L size=28x28 at 0x7FFA34745FA0>"
            ],
            "image/png": "[encoded data removed]"
          },
          "metadata": {}
        },
        {
          "output_type": "display_data",
          "data": {
            "text/plain": [
              "<PIL.Image.Image image mode=L size=28x28 at 0x7FFA4C0D3C70>"
            ],
            "image/png": "[encoded data removed]"
          },
          "metadata": {}
        },
        {
          "output_type": "display_data",
          "data": {
            "text/plain": [
              "<PIL.Image.Image image mode=L size=28x28 at 0x7FFA4C06A850>"
            ],
            "image/png": "[encoded data removed]"
          },
          "metadata": {}
        },
        {
          "output_type": "stream",
          "name": "stdout",
          "text": [
            "epoch  9\n"
          ]
        },
        {
          "output_type": "display_data",
          "data": {
            "text/plain": [
              "<PIL.Image.Image image mode=L size=28x28 at 0x7FFA4C06A850>"
            ],
            "image/png": "[encoded data removed]"
          },
          "metadata": {}
        },
        {
          "output_type": "display_data",
          "data": {
            "text/plain": [
              "<PIL.Image.Image image mode=L size=28x28 at 0x7FFA4C11AFA0>"
            ],
            "image/png": "[encoded data removed]"
          },
          "metadata": {}
        },
        {
          "output_type": "display_data",
          "data": {
            "text/plain": [
              "<PIL.Image.Image image mode=L size=28x28 at 0x7FFA34752F70>"
            ],
            "image/png": "[encoded data removed]"
          },
          "metadata": {}
        },
        {
          "output_type": "stream",
          "name": "stdout",
          "text": [
            "epoch  10\n"
          ]
        },
        {
          "output_type": "display_data",
          "data": {
            "text/plain": [
              "<PIL.Image.Image image mode=L size=28x28 at 0x7FFA3474D040>"
            ],
            "image/png": "[encoded data removed]"
          },
          "metadata": {}
        },
        {
          "output_type": "display_data",
          "data": {
            "text/plain": [
              "<PIL.Image.Image image mode=L size=28x28 at 0x7FFA3474DFD0>"
            ],
            "image/png": "[encoded data removed]"
          },
          "metadata": {}
        },
        {
          "output_type": "display_data",
          "data": {
            "text/plain": [
              "<PIL.Image.Image image mode=L size=28x28 at 0x7FFA34745FA0>"
            ],
            "image/png": "[encoded data removed]"
          },
          "metadata": {}
        },
        {
          "output_type": "stream",
          "name": "stdout",
          "text": [
            "epoch  11\n"
          ]
        },
        {
          "output_type": "display_data",
          "data": {
            "text/plain": [
              "<PIL.Image.Image image mode=L size=28x28 at 0x7FFA3475AFD0>"
            ],
            "image/png": "[encoded data removed]"
          },
          "metadata": {}
        },
        {
          "output_type": "display_data",
          "data": {
            "text/plain": [
              "<PIL.Image.Image image mode=L size=28x28 at 0x7FFA34745FA0>"
            ],
            "image/png": "[encoded data removed]"
          },
          "metadata": {}
        },
        {
          "output_type": "display_data",
          "data": {
            "text/plain": [
              "<PIL.Image.Image image mode=L size=28x28 at 0x7FFA4C08BC10>"
            ],
            "image/png": "[encoded data removed]"
          },
          "metadata": {}
        },
        {
          "output_type": "stream",
          "name": "stdout",
          "text": [
            "epoch  12\n"
          ]
        },
        {
          "output_type": "display_data",
          "data": {
            "text/plain": [
              "<PIL.Image.Image image mode=L size=28x28 at 0x7FFA3474B070>"
            ],
            "image/png": "[encoded data removed]"
          },
          "metadata": {}
        },
        {
          "output_type": "display_data",
          "data": {
            "text/plain": [
              "<PIL.Image.Image image mode=L size=28x28 at 0x7FFA34766F70>"
            ],
            "image/png": "[encoded data removed]"
          },
          "metadata": {}
        },
        {
          "output_type": "display_data",
          "data": {
            "text/plain": [
              "<PIL.Image.Image image mode=L size=28x28 at 0x7FFB2B40B4F0>"
            ],
            "image/png": "[encoded data removed]"
          },
          "metadata": {}
        },
        {
          "output_type": "stream",
          "name": "stdout",
          "text": [
            "epoch  13\n"
          ]
        },
        {
          "output_type": "display_data",
          "data": {
            "text/plain": [
              "<PIL.Image.Image image mode=L size=28x28 at 0x7FFA34763FD0>"
            ],
            "image/png": "[encoded data removed]"
          },
          "metadata": {}
        },
        {
          "output_type": "display_data",
          "data": {
            "text/plain": [
              "<PIL.Image.Image image mode=L size=28x28 at 0x7FFA34752F70>"
            ],
            "image/png": "[encoded data removed]"
          },
          "metadata": {}
        },
        {
          "output_type": "display_data",
          "data": {
            "text/plain": [
              "<PIL.Image.Image image mode=L size=28x28 at 0x7FFA34763FD0>"
            ],
            "image/png": "[encoded data removed]"
          },
          "metadata": {}
        },
        {
          "output_type": "stream",
          "name": "stdout",
          "text": [
            "epoch  14\n"
          ]
        },
        {
          "output_type": "display_data",
          "data": {
            "text/plain": [
              "<PIL.Image.Image image mode=L size=28x28 at 0x7FFA347634F0>"
            ],
            "image/png": "[encoded data removed]"
          },
          "metadata": {}
        },
        {
          "output_type": "display_data",
          "data": {
            "text/plain": [
              "<PIL.Image.Image image mode=L size=28x28 at 0x7FFA34749CD0>"
            ],
            "image/png": "[encoded data removed]"
          },
          "metadata": {}
        },
        {
          "output_type": "display_data",
          "data": {
            "text/plain": [
              "<PIL.Image.Image image mode=L size=28x28 at 0x7FFA347634F0>"
            ],
            "image/png": "[encoded data removed]"
          },
          "metadata": {}
        },
        {
          "output_type": "stream",
          "name": "stdout",
          "text": [
            "epoch  15\n"
          ]
        },
        {
          "output_type": "display_data",
          "data": {
            "text/plain": [
              "<PIL.Image.Image image mode=L size=28x28 at 0x7FFA34745FA0>"
            ],
            "image/png": "[encoded data removed]"
          },
          "metadata": {}
        },
        {
          "output_type": "display_data",
          "data": {
            "text/plain": [
              "<PIL.Image.Image image mode=L size=28x28 at 0x7FFA34752F70>"
            ],
            "image/png": "[encoded data removed]"
          },
          "metadata": {}
        },
        {
          "output_type": "display_data",
          "data": {
            "text/plain": [
              "<PIL.Image.Image image mode=L size=28x28 at 0x7FFA34745FA0>"
            ],
            "image/png": "[encoded data removed]"
          },
          "metadata": {}
        },
        {
          "output_type": "stream",
          "name": "stdout",
          "text": [
            "epoch  16\n"
          ]
        },
        {
          "output_type": "display_data",
          "data": {
            "text/plain": [
              "<PIL.Image.Image image mode=L size=28x28 at 0x7FFA34752F70>"
            ],
            "image/png": "[encoded data removed]"
          },
          "metadata": {}
        },
        {
          "output_type": "display_data",
          "data": {
            "text/plain": [
              "<PIL.Image.Image image mode=L size=28x28 at 0x7FFA4C08BC10>"
            ],
            "image/png": "[encoded data removed]"
          },
          "metadata": {}
        },
        {
          "output_type": "display_data",
          "data": {
            "text/plain": [
              "<PIL.Image.Image image mode=L size=28x28 at 0x7FFA34752F70>"
            ],
            "image/png": "[encoded data removed]"
          },
          "metadata": {}
        },
        {
          "output_type": "stream",
          "name": "stdout",
          "text": [
            "epoch  17\n"
          ]
        },
        {
          "output_type": "display_data",
          "data": {
            "text/plain": [
              "<PIL.Image.Image image mode=L size=28x28 at 0x7FFA4C0D3C70>"
            ],
            "image/png": "[encoded data removed]"
          },
          "metadata": {}
        },
        {
          "output_type": "display_data",
          "data": {
            "text/plain": [
              "<PIL.Image.Image image mode=L size=28x28 at 0x7FFA3475CE20>"
            ],
            "image/png": "[encoded data removed]"
          },
          "metadata": {}
        },
        {
          "output_type": "display_data",
          "data": {
            "text/plain": [
              "<PIL.Image.Image image mode=L size=28x28 at 0x7FFA4C11AFA0>"
            ],
            "image/png": "[encoded data removed]"
          },
          "metadata": {}
        },
        {
          "output_type": "stream",
          "name": "stdout",
          "text": [
            "epoch  18\n"
          ]
        },
        {
          "output_type": "display_data",
          "data": {
            "text/plain": [
              "<PIL.Image.Image image mode=L size=28x28 at 0x7FFA3475A0A0>"
            ],
            "image/png": "[encoded data removed]"
          },
          "metadata": {}
        },
        {
          "output_type": "display_data",
          "data": {
            "text/plain": [
              "<PIL.Image.Image image mode=L size=28x28 at 0x7FFB2B40B4F0>"
            ],
            "image/png": "[encoded data removed]"
          },
          "metadata": {}
        },
        {
          "output_type": "display_data",
          "data": {
            "text/plain": [
              "<PIL.Image.Image image mode=L size=28x28 at 0x7FFA34752FD0>"
            ],
            "image/png": "[encoded data removed]"
          },
          "metadata": {}
        },
        {
          "output_type": "stream",
          "name": "stdout",
          "text": [
            "epoch  19\n"
          ]
        },
        {
          "output_type": "display_data",
          "data": {
            "text/plain": [
              "<PIL.Image.Image image mode=L size=28x28 at 0x7FFA34766F70>"
            ],
            "image/png": "[encoded data removed]"
          },
          "metadata": {}
        },
        {
          "output_type": "display_data",
          "data": {
            "text/plain": [
              "<PIL.Image.Image image mode=L size=28x28 at 0x7FFA34752FD0>"
            ],
            "image/png": "[encoded data removed]"
          },
          "metadata": {}
        },
        {
          "output_type": "display_data",
          "data": {
            "text/plain": [
              "<PIL.Image.Image image mode=L size=28x28 at 0x7FFA347634F0>"
            ],
            "image/png": "[encoded data removed]"
          },
          "metadata": {}
        },
        {
          "output_type": "stream",
          "name": "stdout",
          "text": [
            "epoch  20\n"
          ]
        },
        {
          "output_type": "display_data",
          "data": {
            "text/plain": [
              "<PIL.Image.Image image mode=L size=28x28 at 0x7FFA4C06A850>"
            ],
            "image/png": "[encoded data removed]"
          },
          "metadata": {}
        },
        {
          "output_type": "display_data",
          "data": {
            "text/plain": [
              "<PIL.Image.Image image mode=L size=28x28 at 0x7FFA4C0D3C70>"
            ],
            "image/png": "[encoded data removed]"
          },
          "metadata": {}
        },
        {
          "output_type": "display_data",
          "data": {
            "text/plain": [
              "<PIL.Image.Image image mode=L size=28x28 at 0x7FFA4C06A850>"
            ],
            "image/png": "[encoded data removed]"
          },
          "metadata": {}
        },
        {
          "output_type": "stream",
          "name": "stdout",
          "text": [
            "epoch  21\n"
          ]
        },
        {
          "output_type": "display_data",
          "data": {
            "text/plain": [
              "<PIL.Image.Image image mode=L size=28x28 at 0x7FFA3475C040>"
            ],
            "image/png": "[encoded data removed]"
          },
          "metadata": {}
        },
        {
          "output_type": "display_data",
          "data": {
            "text/plain": [
              "<PIL.Image.Image image mode=L size=28x28 at 0x7FFA3475CDC0>"
            ],
            "image/png": "[encoded data removed]"
          },
          "metadata": {}
        },
        {
          "output_type": "display_data",
          "data": {
            "text/plain": [
              "<PIL.Image.Image image mode=L size=28x28 at 0x7FFA3475C040>"
            ],
            "image/png": "[encoded data removed]"
          },
          "metadata": {}
        },
        {
          "output_type": "stream",
          "name": "stdout",
          "text": [
            "epoch  22\n"
          ]
        },
        {
          "output_type": "display_data",
          "data": {
            "text/plain": [
              "<PIL.Image.Image image mode=L size=28x28 at 0x7FFA34752FD0>"
            ],
            "image/png": "[encoded data removed]"
          },
          "metadata": {}
        },
        {
          "output_type": "display_data",
          "data": {
            "text/plain": [
              "<PIL.Image.Image image mode=L size=28x28 at 0x7FFA3475A0A0>"
            ],
            "image/png": "[encoded data removed]"
          },
          "metadata": {}
        },
        {
          "output_type": "display_data",
          "data": {
            "text/plain": [
              "<PIL.Image.Image image mode=L size=28x28 at 0x7FFA34766F70>"
            ],
            "image/png": "[encoded data removed]"
          },
          "metadata": {}
        },
        {
          "output_type": "stream",
          "name": "stdout",
          "text": [
            "epoch  23\n"
          ]
        },
        {
          "output_type": "display_data",
          "data": {
            "text/plain": [
              "<PIL.Image.Image image mode=L size=28x28 at 0x7FFA347504C0>"
            ],
            "image/png": "[encoded data removed]"
          },
          "metadata": {}
        },
        {
          "output_type": "display_data",
          "data": {
            "text/plain": [
              "<PIL.Image.Image image mode=L size=28x28 at 0x7FFA34766F70>"
            ],
            "image/png": "[encoded data removed]"
          },
          "metadata": {}
        },
        {
          "output_type": "display_data",
          "data": {
            "text/plain": [
              "<PIL.Image.Image image mode=L size=28x28 at 0x7FFA347504C0>"
            ],
            "image/png": "[encoded data removed]"
          },
          "metadata": {}
        },
        {
          "output_type": "stream",
          "name": "stdout",
          "text": [
            "epoch  24\n"
          ]
        },
        {
          "output_type": "display_data",
          "data": {
            "text/plain": [
              "<PIL.Image.Image image mode=L size=28x28 at 0x7FFA34749CD0>"
            ],
            "image/png": "[encoded data removed]"
          },
          "metadata": {}
        },
        {
          "output_type": "display_data",
          "data": {
            "text/plain": [
              "<PIL.Image.Image image mode=L size=28x28 at 0x7FFA4C0D3C70>"
            ],
            "image/png": "[encoded data removed]"
          },
          "metadata": {}
        },
        {
          "output_type": "display_data",
          "data": {
            "text/plain": [
              "<PIL.Image.Image image mode=L size=28x28 at 0x7FFA34749CD0>"
            ],
            "image/png": "[encoded data removed]"
          },
          "metadata": {}
        },
        {
          "output_type": "stream",
          "name": "stdout",
          "text": [
            "epoch  25\n"
          ]
        },
        {
          "output_type": "display_data",
          "data": {
            "text/plain": [
              "<PIL.Image.Image image mode=L size=28x28 at 0x7FFA34752FD0>"
            ],
            "image/png": "[encoded data removed]"
          },
          "metadata": {}
        },
        {
          "output_type": "display_data",
          "data": {
            "text/plain": [
              "<PIL.Image.Image image mode=L size=28x28 at 0x7FFA4C11AFA0>"
            ],
            "image/png": "[encoded data removed]"
          },
          "metadata": {}
        },
        {
          "output_type": "display_data",
          "data": {
            "text/plain": [
              "<PIL.Image.Image image mode=L size=28x28 at 0x7FFA3475AFD0>"
            ],
            "image/png": "[encoded data removed]"
          },
          "metadata": {}
        },
        {
          "output_type": "stream",
          "name": "stdout",
          "text": [
            "epoch  26\n"
          ]
        },
        {
          "output_type": "display_data",
          "data": {
            "text/plain": [
              "<PIL.Image.Image image mode=L size=28x28 at 0x7FFA4C11AFA0>"
            ],
            "image/png": "[encoded data removed]"
          },
          "metadata": {}
        },
        {
          "output_type": "display_data",
          "data": {
            "text/plain": [
              "<PIL.Image.Image image mode=L size=28x28 at 0x7FFA347504C0>"
            ],
            "image/png": "[encoded data removed]"
          },
          "metadata": {}
        },
        {
          "output_type": "display_data",
          "data": {
            "text/plain": [
              "<PIL.Image.Image image mode=L size=28x28 at 0x7FFA4C11AFA0>"
            ],
            "image/png": "[encoded data removed]"
          },
          "metadata": {}
        },
        {
          "output_type": "stream",
          "name": "stdout",
          "text": [
            "epoch  27\n"
          ]
        },
        {
          "output_type": "display_data",
          "data": {
            "text/plain": [
              "<PIL.Image.Image image mode=L size=28x28 at 0x7FFA3474BF70>"
            ],
            "image/png": "[encoded data removed]"
          },
          "metadata": {}
        },
        {
          "output_type": "display_data",
          "data": {
            "text/plain": [
              "<PIL.Image.Image image mode=L size=28x28 at 0x7FFA3474B070>"
            ],
            "image/png": "[encoded data removed]"
          },
          "metadata": {}
        },
        {
          "output_type": "display_data",
          "data": {
            "text/plain": [
              "<PIL.Image.Image image mode=L size=28x28 at 0x7FFA3474BF70>"
            ],
            "image/png": "[encoded data removed]"
          },
          "metadata": {}
        },
        {
          "output_type": "stream",
          "name": "stdout",
          "text": [
            "epoch  28\n"
          ]
        },
        {
          "output_type": "display_data",
          "data": {
            "text/plain": [
              "<PIL.Image.Image image mode=L size=28x28 at 0x7FFA34749CD0>"
            ],
            "image/png": "[encoded data removed]"
          },
          "metadata": {}
        },
        {
          "output_type": "display_data",
          "data": {
            "text/plain": [
              "<PIL.Image.Image image mode=L size=28x28 at 0x7FFA34752F70>"
            ],
            "image/png": "[encoded data removed]"
          },
          "metadata": {}
        },
        {
          "output_type": "display_data",
          "data": {
            "text/plain": [
              "<PIL.Image.Image image mode=L size=28x28 at 0x7FFA4C11AFA0>"
            ],
            "image/png": "[encoded data removed]"
          },
          "metadata": {}
        },
        {
          "output_type": "stream",
          "name": "stdout",
          "text": [
            "epoch  29\n"
          ]
        },
        {
          "output_type": "display_data",
          "data": {
            "text/plain": [
              "<PIL.Image.Image image mode=L size=28x28 at 0x7FFA347634F0>"
            ],
            "image/png": "[encoded data removed]"
          },
          "metadata": {}
        },
        {
          "output_type": "display_data",
          "data": {
            "text/plain": [
              "<PIL.Image.Image image mode=L size=28x28 at 0x7FFA34752F70>"
            ],
            "image/png": "[encoded data removed]"
          },
          "metadata": {}
        },
        {
          "output_type": "display_data",
          "data": {
            "text/plain": [
              "<PIL.Image.Image image mode=L size=28x28 at 0x7FFA4C06A850>"
            ],
            "image/png": "[encoded data removed]"
          },
          "metadata": {}
        },
        {
          "output_type": "execute_result",
          "data": {
            "text/plain": [
              "<keras.callbacks.History at 0x7ffab08206a0>"
            ]
          },
          "metadata": {},
          "execution_count": 7
        }
      ],
      "source": [
        "epochs = 30 #số epochs\n",
        "latent_dim =100 #số chiều cho noises\n",
        "gan = Gan(discriminator=discriminator, generator=generator, latent_dim=latent_dim)\n",
        "gan.compile(\n",
        "    d_optimizer=keras.optimizers.Adam(learning_rate=0.0003,beta_1=0.5), \n",
        "    g_optimizer=keras.optimizers.Adam(learning_rate=0.0003,beta_1=0.5),\n",
        "    loss_function=keras.losses.BinaryCrossentropy(),\n",
        ")\n",
        "\n",
        "gan.fit(\n",
        "    dataset, epochs=epochs, callbacks=[GANMonitor(num_img=3, latent_dim=latent_dim)],verbose=0\n",
        "    )"
      ]
    },
    {
      "cell_type": "markdown",
      "metadata": {
        "id": "zXdn1FBdHbeS"
      },
      "source": [
        "## Bài tập"
      ]
    },
    {
      "cell_type": "markdown",
      "metadata": {
        "id": "pGg_BgvzBTCJ"
      },
      "source": [
        "1. huấn luyện mô hình DCGAN (số chiều của nhiễu là 128) với các mô hình sau đây:\n",
        "    \n",
        "    Generator:\n",
        "    \n",
        "    ![image.png](data:image/png;base64,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)\n",
        "\n",
        "    Discriminatorr:\n",
        "    \n",
        "    ![image.png](data:image/png;base64,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)\n"
      ]
    },
    {
      "cell_type": "markdown",
      "metadata": {
        "id": "Ot2Oj-tUCFMG"
      },
      "source": [
        "2. Từ mô hình GAN đã huấn luyện hãy viết một hàm in ra 10 hình từ noises có phân phối chuẩn"
      ]
    },
    {
      "cell_type": "markdown",
      "source": [
        "## Bài làm"
      ],
      "metadata": {
        "id": "XDrI0BDBKCTQ"
      }
    },
    {
      "cell_type": "code",
      "source": [
        "batch_size = 128\n",
        "(x_train, y_train), (x_test, y_test) = keras.datasets.mnist.load_data()\n",
        "all_digits = np.concatenate([x_train, x_test]) \n",
        "all_digits = all_digits.astype('float32') / 255\n",
        "all_digits = np.reshape(all_digits,(-1, 28, 28, 1))\n",
        "dataset=tf.data.Dataset.from_tensor_slices(all_digits)\n",
        "dataset = dataset.shuffle(buffer_size = 1024).batch(batch_size).prefetch(32)"
      ],
      "metadata": {
        "id": "wj6Xz9J7VPDr"
      },
      "execution_count": 8,
      "outputs": []
    },
    {
      "cell_type": "code",
      "source": [
        "#mô hình của mạng Generator\n",
        "latten_dim = 100\n",
        "generator = keras.Sequential()\n",
        "\n",
        "generator.add(keras.Input(shape = (latten_dim,)))\n",
        "\n",
        "generator.add(keras.layers.Dense(units = 12544, activation = keras.activations.relu, kernel_regularizer = keras.regularizers.l2(0.0005), use_bias = False))\n",
        "generator.add(keras.layers.Reshape((7, 7, 256)))\n",
        "\n",
        "generator.add(keras.layers.BatchNormalization())\n",
        "generator.add(keras.layers.Conv2DTranspose(filters = 128, kernel_size = [5, 5], strides = [1, 1], padding = 'same', use_bias = False))\n",
        "\n",
        "generator.add(keras.layers.BatchNormalization())\n",
        "generator.add(keras.layers.LeakyReLU(alpha = 0.2))\n",
        "\n",
        "generator.add(keras.layers.Conv2DTranspose(filters = 64, kernel_size = [5, 5], strides = [2, 2], padding = 'same', use_bias = False))\n",
        "generator.add(keras.layers.BatchNormalization())\n",
        "\n",
        "generator.add(keras.layers.LeakyReLU(alpha = 0.2))\n",
        "generator.add(keras.layers.Conv2DTranspose(filters = 1, kernel_size = [5, 5], strides = [2, 2], padding = 'same', use_bias = False))\n",
        "\n",
        "generator.add(keras.layers.Reshape((28, 28, 1)))\n",
        "\n",
        "generator.summary()"
      ],
      "metadata": {
        "colab": {
          "base_uri": "https://localhost:8080/"
        },
        "id": "0YgQK7IZbvIb",
        "outputId": "a1117c78-9e32-42b3-8da8-bcb259e4c72d"
      },
      "execution_count": 9,
      "outputs": [
        {
          "output_type": "stream",
          "name": "stdout",
          "text": [
            "Model: \"sequential_2\"\n",
            "_________________________________________________________________\n",
            " Layer (type)                Output Shape              Param #   \n",
            "=================================================================\n",
            " dense_8 (Dense)             (None, 12544)             1254400   \n",
            "                                                                 \n",
            " reshape_1 (Reshape)         (None, 7, 7, 256)         0         \n",
            "                                                                 \n",
            " batch_normalization (BatchN  (None, 7, 7, 256)        1024      \n",
            " ormalization)                                                   \n",
            "                                                                 \n",
            " conv2d_transpose (Conv2DTra  (None, 7, 7, 128)        819200    \n",
            " nspose)                                                         \n",
            "                                                                 \n",
            " batch_normalization_1 (Batc  (None, 7, 7, 128)        512       \n",
            " hNormalization)                                                 \n",
            "                                                                 \n",
            " leaky_re_lu_6 (LeakyReLU)   (None, 7, 7, 128)         0         \n",
            "                                                                 \n",
            " conv2d_transpose_1 (Conv2DT  (None, 14, 14, 64)       204800    \n",
            " ranspose)                                                       \n",
            "                                                                 \n",
            " batch_normalization_2 (Batc  (None, 14, 14, 64)       256       \n",
            " hNormalization)                                                 \n",
            "                                                                 \n",
            " leaky_re_lu_7 (LeakyReLU)   (None, 14, 14, 64)        0         \n",
            "                                                                 \n",
            " conv2d_transpose_2 (Conv2DT  (None, 28, 28, 1)        1600      \n",
            " ranspose)                                                       \n",
            "                                                                 \n",
            " reshape_2 (Reshape)         (None, 28, 28, 1)         0         \n",
            "                                                                 \n",
            "=================================================================\n",
            "Total params: 2,281,792\n",
            "Trainable params: 2,280,896\n",
            "Non-trainable params: 896\n",
            "_________________________________________________________________\n"
          ]
        }
      ]
    },
    {
      "cell_type": "code",
      "source": [
        "#mô hình của mạng Discrimimator\n",
        "discriminator = keras.Sequential()\n",
        "\n",
        "discriminator.add(keras.Input(shape = (28, 28, 1)))\n",
        "\n",
        "discriminator.add(keras.layers.Convolution2D(filters = 64, kernel_size = [5, 5], strides = [2, 2], padding = 'same', activation = keras.activations.relu))\n",
        "discriminator.add(keras.layers.LeakyReLU(alpha = 0.2))\n",
        "\n",
        "discriminator.add(keras.layers.Convolution2D(filters = 128, kernel_size = [5, 5], strides = [2, 2], padding = 'same', activation = keras.activations.relu))\n",
        "discriminator.add(keras.layers.LeakyReLU(alpha = 0.2))\n",
        "\n",
        "discriminator.add(keras.layers.Flatten())\n",
        "\n",
        "discriminator.add(keras.layers.Dense(units = 1, activation = keras.activations.relu, kernel_regularizer = keras.regularizers.l2(0.0005)))\n",
        "discriminator.add(keras.layers.Activation(activation = 'sigmoid', name = 'sigmoid'))\n",
        "\n",
        "discriminator.summary()"
      ],
      "metadata": {
        "colab": {
          "base_uri": "https://localhost:8080/"
        },
        "id": "zWP5emiMd4fD",
        "outputId": "57fa74bb-5f1d-48c3-e136-f40ceb936ed9"
      },
      "execution_count": 10,
      "outputs": [
        {
          "output_type": "stream",
          "name": "stdout",
          "text": [
            "Model: \"sequential_3\"\n",
            "_________________________________________________________________\n",
            " Layer (type)                Output Shape              Param #   \n",
            "=================================================================\n",
            " conv2d (Conv2D)             (None, 14, 14, 64)        1664      \n",
            "                                                                 \n",
            " leaky_re_lu_8 (LeakyReLU)   (None, 14, 14, 64)        0         \n",
            "                                                                 \n",
            " conv2d_1 (Conv2D)           (None, 7, 7, 128)         204928    \n",
            "                                                                 \n",
            " leaky_re_lu_9 (LeakyReLU)   (None, 7, 7, 128)         0         \n",
            "                                                                 \n",
            " flatten_1 (Flatten)         (None, 6272)              0         \n",
            "                                                                 \n",
            " dense_9 (Dense)             (None, 1)                 6273      \n",
            "                                                                 \n",
            " sigmoid (Activation)        (None, 1)                 0         \n",
            "                                                                 \n",
            "=================================================================\n",
            "Total params: 212,865\n",
            "Trainable params: 212,865\n",
            "Non-trainable params: 0\n",
            "_________________________________________________________________\n"
          ]
        }
      ]
    },
    {
      "cell_type": "code",
      "source": [
        "class Gan(keras.Model):\n",
        "  def __init__(self, discriminator, generator, latent_dim):\n",
        "    super(Gan, self).__init__()\n",
        "    self.discriminator = discriminator \n",
        "    self.generator = generator\n",
        "    self.latent_dim = latent_dim\n",
        "\n",
        "  def compile(self, d_optimizer, g_optimizer, loss_function):\n",
        "    super(Gan, self).compile()\n",
        "    self.d_optimizer = d_optimizer\n",
        "    self.g_optimizer = g_optimizer\n",
        "    self.loss_function = loss_function \n",
        "    \n",
        "  def train_step(self, real_images):\n",
        "    batch_size = tf.shape(real_images)[0]\n",
        "    random_latent_vectors = tf.random.normal(shape = (batch_size, self.latent_dim))\n",
        "\n",
        "    generated_images = self.generator(random_latent_vectors)\n",
        "    combined_images = tf.concat([generated_images, real_images], axis = 0)\n",
        "\n",
        "    labels = tf.concat([tf.ones((batch_size, 1)), tf.zeros((batch_size, 1))], axis = 0)\n",
        "    labels += 0.05 * tf.random.uniform(tf.shape(labels))\n",
        "\n",
        "    with tf.GradientTape() as tape:\n",
        "      predictions = self.discriminator(combined_images)\n",
        "      d_loss = self.loss_function(labels, predictions)\n",
        "        \n",
        "    grads = tape.gradient(d_loss, self.discriminator.trainable_weights)\n",
        "    self.d_optimizer.apply_gradients(zip(grads, self.discriminator.trainable_weights))\n",
        "\n",
        "    random_latent_vectors = tf.random.normal(shape = (batch_size, self.latent_dim))\n",
        "\n",
        "    misleading_labels = tf.zeros((batch_size, 1))\n",
        "\n",
        "    with tf.GradientTape() as tape:\n",
        "      predictions = self.discriminator(self.generator(random_latent_vectors))\n",
        "      g_loss = self.loss_function(misleading_labels, predictions)\n",
        "        \n",
        "    grads = tape.gradient(g_loss, self.generator.trainable_weights)\n",
        "    self.g_optimizer.apply_gradients(zip(grads, self.generator.trainable_weights))\n",
        "    return {'d_loss': d_loss, 'g_loss': g_loss}"
      ],
      "metadata": {
        "id": "QyLt-KWFSOmF"
      },
      "execution_count": 11,
      "outputs": []
    },
    {
      "cell_type": "code",
      "source": [
        "#overwrite callback để lúc huấn luyện xem ảnh in ra\n",
        "from IPython.display import Image, display\n",
        "class GANMonitor(keras.callbacks.Callback):\n",
        "  def __init__(self, num_img = 10, latent_dim = 100):\n",
        "    self.num_img = num_img\n",
        "    self.latent_dim = latent_dim\n",
        "  def on_epoch_end(self, epoch, logs = None):\n",
        "    random_latent_vectors = tf.random.normal(shape = (self.num_img, self.latent_dim))\n",
        "    generated_images = self.model.generator(random_latent_vectors)\n",
        "    generated_images *= 255\n",
        "    generated_images.numpy() \n",
        "    print('epoch', epoch)\n",
        "    for i in range(self.num_img):\n",
        "      img = keras.preprocessing.image.array_to_img(generated_images[i])\n",
        "      display(img)"
      ],
      "metadata": {
        "id": "aQe-0n2ESTdT"
      },
      "execution_count": 12,
      "outputs": []
    },
    {
      "cell_type": "code",
      "source": [
        "epochs = 10\n",
        "latent_dim = 100\n",
        "gan = Gan(discriminator = discriminator, generator = generator, latent_dim = latent_dim)\n",
        "gan.compile(d_optimizer = keras.optimizers.Adam(learning_rate = 0.0003, beta_1 = 0.5), \n",
        "            g_optimizer = keras.optimizers.Adam(learning_rate = 0.0003, beta_1 = 0.5), \n",
        "            loss_function = keras.losses.BinaryCrossentropy())\n",
        "\n",
        "gan.fit(dataset, epochs = epochs, callbacks = [GANMonitor(num_img = 10, latent_dim = latent_dim)], verbose = 0)"
      ],
      "metadata": {
        "colab": {
          "base_uri": "https://localhost:8080/",
          "height": 1000
        },
        "id": "UCWwmU-eRvOZ",
        "outputId": "133b27b1-ef1b-4865-993a-2d731887bbde"
      },
      "execution_count": 13,
      "outputs": [
        {
          "output_type": "stream",
          "name": "stdout",
          "text": [
            "epoch 0\n"
          ]
        },
        {
          "output_type": "display_data",
          "data": {
            "text/plain": [
              "<PIL.Image.Image image mode=L size=28x28 at 0x7FFA3467CFD0>"
            ],
            "image/png": "[encoded data removed]"
          },
          "metadata": {}
        },
        {
          "output_type": "display_data",
          "data": {
            "text/plain": [
              "<PIL.Image.Image image mode=L size=28x28 at 0x7FFA4C3AD9D0>"
            ],
            "image/png": "[encoded data removed]"
          },
          "metadata": {}
        },
        {
          "output_type": "display_data",
          "data": {
            "text/plain": [
              "<PIL.Image.Image image mode=L size=28x28 at 0x7FFA34702E50>"
            ],
            "image/png": "[encoded data removed]"
          },
          "metadata": {}
        },
        {
          "output_type": "display_data",
          "data": {
            "text/plain": [
              "<PIL.Image.Image image mode=L size=28x28 at 0x7FFA346D32E0>"
            ],
            "image/png": "[encoded data removed]"
          },
          "metadata": {}
        },
        {
          "output_type": "display_data",
          "data": {
            "text/plain": [
              "<PIL.Image.Image image mode=L size=28x28 at 0x7FFA345ACD00>"
            ],
            "image/png": "[encoded data removed]"
          },
          "metadata": {}
        },
        {
          "output_type": "display_data",
          "data": {
            "text/plain": [
              "<PIL.Image.Image image mode=L size=28x28 at 0x7FFA347167F0>"
            ],
            "image/png": "[encoded data removed]"
          },
          "metadata": {}
        },
        {
          "output_type": "display_data",
          "data": {
            "text/plain": [
              "<PIL.Image.Image image mode=L size=28x28 at 0x7FFA4C3A4220>"
            ],
            "image/png": "[encoded data removed]"
          },
          "metadata": {}
        },
        {
          "output_type": "display_data",
          "data": {
            "text/plain": [
              "<PIL.Image.Image image mode=L size=28x28 at 0x7FFA344D60A0>"
            ],
            "image/png": "[encoded data removed]"
          },
          "metadata": {}
        },
        {
          "output_type": "display_data",
          "data": {
            "text/plain": [
              "<PIL.Image.Image image mode=L size=28x28 at 0x7FFA34443670>"
            ],
            "image/png": "[encoded data removed]"
          },
          "metadata": {}
        },
        {
          "output_type": "display_data",
          "data": {
            "text/plain": [
              "<PIL.Image.Image image mode=L size=28x28 at 0x7FFA347167F0>"
            ],
            "image/png": "[encoded data removed]"
          },
          "metadata": {}
        },
        {
          "output_type": "stream",
          "name": "stdout",
          "text": [
            "epoch 1\n"
          ]
        },
        {
          "output_type": "display_data",
          "data": {
            "text/plain": [
              "<PIL.Image.Image image mode=L size=28x28 at 0x7FFAB663F520>"
            ],
            "image/png": "[encoded data removed]"
          },
          "metadata": {}
        },
        {
          "output_type": "display_data",
          "data": {
            "text/plain": [
              "<PIL.Image.Image image mode=L size=28x28 at 0x7FFA345A4EE0>"
            ],
            "image/png": "[encoded data removed]"
          },
          "metadata": {}
        },
        {
          "output_type": "display_data",
          "data": {
            "text/plain": [
              "<PIL.Image.Image image mode=L size=28x28 at 0x7FFA3467CFD0>"
            ],
            "image/png": "[encoded data removed]"
          },
          "metadata": {}
        },
        {
          "output_type": "display_data",
          "data": {
            "text/plain": [
              "<PIL.Image.Image image mode=L size=28x28 at 0x7FFA345A4EE0>"
            ],
            "image/png": "[encoded data removed]"
          },
          "metadata": {}
        },
        {
          "output_type": "display_data",
          "data": {
            "text/plain": [
              "<PIL.Image.Image image mode=L size=28x28 at 0x7FFA3467CFD0>"
            ],
            "image/png": "[encoded data removed]"
          },
          "metadata": {}
        },
        {
          "output_type": "display_data",
          "data": {
            "text/plain": [
              "<PIL.Image.Image image mode=L size=28x28 at 0x7FFA345A4EE0>"
            ],
            "image/png": "[encoded data removed]"
          },
          "metadata": {}
        },
        {
          "output_type": "display_data",
          "data": {
            "text/plain": [
              "<PIL.Image.Image image mode=L size=28x28 at 0x7FFA344D60A0>"
            ],
            "image/png": "[encoded data removed]"
          },
          "metadata": {}
        },
        {
          "output_type": "display_data",
          "data": {
            "text/plain": [
              "<PIL.Image.Image image mode=L size=28x28 at 0x7FFA347672B0>"
            ],
            "image/png": "[encoded data removed]"
          },
          "metadata": {}
        },
        {
          "output_type": "display_data",
          "data": {
            "text/plain": [
              "<PIL.Image.Image image mode=L size=28x28 at 0x7FFA345A4EE0>"
            ],
            "image/png": "[encoded data removed]"
          },
          "metadata": {}
        },
        {
          "output_type": "display_data",
          "data": {
            "text/plain": [
              "<PIL.Image.Image image mode=L size=28x28 at 0x7FFA347672B0>"
            ],
            "image/png": "[encoded data removed]"
          },
          "metadata": {}
        },
        {
          "output_type": "stream",
          "name": "stdout",
          "text": [
            "epoch 2\n"
          ]
        },
        {
          "output_type": "display_data",
          "data": {
            "text/plain": [
              "<PIL.Image.Image image mode=L size=28x28 at 0x7FFA346D32E0>"
            ],
            "image/png": "[encoded data removed]"
          },
          "metadata": {}
        },
        {
          "output_type": "display_data",
          "data": {
            "text/plain": [
              "<PIL.Image.Image image mode=L size=28x28 at 0x7FFA346C1C70>"
            ],
            "image/png": "[encoded data removed]"
          },
          "metadata": {}
        },
        {
          "output_type": "display_data",
          "data": {
            "text/plain": [
              "<PIL.Image.Image image mode=L size=28x28 at 0x7FFA346D32E0>"
            ],
            "image/png": "[encoded data removed]"
          },
          "metadata": {}
        },
        {
          "output_type": "display_data",
          "data": {
            "text/plain": [
              "<PIL.Image.Image image mode=L size=28x28 at 0x7FFA346C1C70>"
            ],
            "image/png": "[encoded data removed]"
          },
          "metadata": {}
        },
        {
          "output_type": "display_data",
          "data": {
            "text/plain": [
              "<PIL.Image.Image image mode=L size=28x28 at 0x7FFA346D32E0>"
            ],
            "image/png": "[encoded data removed]"
          },
          "metadata": {}
        },
        {
          "output_type": "display_data",
          "data": {
            "text/plain": [
              "<PIL.Image.Image image mode=L size=28x28 at 0x7FFA346C1C70>"
            ],
            "image/png": "[encoded data removed]"
          },
          "metadata": {}
        },
        {
          "output_type": "display_data",
          "data": {
            "text/plain": [
              "<PIL.Image.Image image mode=L size=28x28 at 0x7FFA346D32E0>"
            ],
            "image/png": "[encoded data removed]"
          },
          "metadata": {}
        },
        {
          "output_type": "display_data",
          "data": {
            "text/plain": [
              "<PIL.Image.Image image mode=L size=28x28 at 0x7FFA347676A0>"
            ],
            "image/png": "[encoded data removed]"
          },
          "metadata": {}
        },
        {
          "output_type": "display_data",
          "data": {
            "text/plain": [
              "<PIL.Image.Image image mode=L size=28x28 at 0x7FFA347167F0>"
            ],
            "image/png": "[encoded data removed]"
          },
          "metadata": {}
        },
        {
          "output_type": "display_data",
          "data": {
            "text/plain": [
              "<PIL.Image.Image image mode=L size=28x28 at 0x7FFA34541F10>"
            ],
            "image/png": "[encoded data removed]"
          },
          "metadata": {}
        },
        {
          "output_type": "stream",
          "name": "stdout",
          "text": [
            "epoch 3\n"
          ]
        },
        {
          "output_type": "display_data",
          "data": {
            "text/plain": [
              "<PIL.Image.Image image mode=L size=28x28 at 0x7FFA3447E580>"
            ],
            "image/png": "[encoded data removed]"
          },
          "metadata": {}
        },
        {
          "output_type": "display_data",
          "data": {
            "text/plain": [
              "<PIL.Image.Image image mode=L size=28x28 at 0x7FFA346ED340>"
            ],
            "image/png": "[encoded data removed]"
          },
          "metadata": {}
        },
        {
          "output_type": "display_data",
          "data": {
            "text/plain": [
              "<PIL.Image.Image image mode=L size=28x28 at 0x7FFA3447E580>"
            ],
            "image/png": "[encoded data removed]"
          },
          "metadata": {}
        },
        {
          "output_type": "display_data",
          "data": {
            "text/plain": [
              "<PIL.Image.Image image mode=L size=28x28 at 0x7FFA346ED340>"
            ],
            "image/png": "[encoded data removed]"
          },
          "metadata": {}
        },
        {
          "output_type": "display_data",
          "data": {
            "text/plain": [
              "<PIL.Image.Image image mode=L size=28x28 at 0x7FFA3447E580>"
            ],
            "image/png": "[encoded data removed]"
          },
          "metadata": {}
        },
        {
          "output_type": "display_data",
          "data": {
            "text/plain": [
              "<PIL.Image.Image image mode=L size=28x28 at 0x7FFA346ED340>"
            ],
            "image/png": "[encoded data removed]"
          },
          "metadata": {}
        },
        {
          "output_type": "display_data",
          "data": {
            "text/plain": [
              "<PIL.Image.Image image mode=L size=28x28 at 0x7FFA3447E580>"
            ],
            "image/png": "[encoded data removed]"
          },
          "metadata": {}
        },
        {
          "output_type": "display_data",
          "data": {
            "text/plain": [
              "<PIL.Image.Image image mode=L size=28x28 at 0x7FFA346ED340>"
            ],
            "image/png": "[encoded data removed]"
          },
          "metadata": {}
        },
        {
          "output_type": "display_data",
          "data": {
            "text/plain": [
              "<PIL.Image.Image image mode=L size=28x28 at 0x7FFA3447E580>"
            ],
            "image/png": "[encoded data removed]"
          },
          "metadata": {}
        },
        {
          "output_type": "display_data",
          "data": {
            "text/plain": [
              "<PIL.Image.Image image mode=L size=28x28 at 0x7FFA346ED340>"
            ],
            "image/png": "[encoded data removed]"
          },
          "metadata": {}
        },
        {
          "output_type": "stream",
          "name": "stdout",
          "text": [
            "epoch 4\n"
          ]
        },
        {
          "output_type": "display_data",
          "data": {
            "text/plain": [
              "<PIL.Image.Image image mode=L size=28x28 at 0x7FFA4C3AD9D0>"
            ],
            "image/png": "[encoded data removed]"
          },
          "metadata": {}
        },
        {
          "output_type": "display_data",
          "data": {
            "text/plain": [
              "<PIL.Image.Image image mode=L size=28x28 at 0x7FFA345B1E80>"
            ],
            "image/png": "[encoded data removed]"
          },
          "metadata": {}
        },
        {
          "output_type": "display_data",
          "data": {
            "text/plain": [
              "<PIL.Image.Image image mode=L size=28x28 at 0x7FFA4C3AD9D0>"
            ],
            "image/png": "[encoded data removed]"
          },
          "metadata": {}
        },
        {
          "output_type": "display_data",
          "data": {
            "text/plain": [
              "<PIL.Image.Image image mode=L size=28x28 at 0x7FFA345B1E80>"
            ],
            "image/png": "[encoded data removed]"
          },
          "metadata": {}
        },
        {
          "output_type": "display_data",
          "data": {
            "text/plain": [
              "<PIL.Image.Image image mode=L size=28x28 at 0x7FFA4C3AD9D0>"
            ],
            "image/png": "[encoded data removed]"
          },
          "metadata": {}
        },
        {
          "output_type": "display_data",
          "data": {
            "text/plain": [
              "<PIL.Image.Image image mode=L size=28x28 at 0x7FFA345B1E80>"
            ],
            "image/png": "[encoded data removed]"
          },
          "metadata": {}
        },
        {
          "output_type": "display_data",
          "data": {
            "text/plain": [
              "<PIL.Image.Image image mode=L size=28x28 at 0x7FFA4C3AD9D0>"
            ],
            "image/png": "[encoded data removed]"
          },
          "metadata": {}
        },
        {
          "output_type": "display_data",
          "data": {
            "text/plain": [
              "<PIL.Image.Image image mode=L size=28x28 at 0x7FFA345B1E80>"
            ],
            "image/png": "[encoded data removed]"
          },
          "metadata": {}
        },
        {
          "output_type": "display_data",
          "data": {
            "text/plain": [
              "<PIL.Image.Image image mode=L size=28x28 at 0x7FFA4C3AD9D0>"
            ],
            "image/png": "[encoded data removed]"
          },
          "metadata": {}
        },
        {
          "output_type": "display_data",
          "data": {
            "text/plain": [
              "<PIL.Image.Image image mode=L size=28x28 at 0x7FFA345B1E80>"
            ],
            "image/png": "[encoded data removed]"
          },
          "metadata": {}
        },
        {
          "output_type": "stream",
          "name": "stdout",
          "text": [
            "epoch 5\n"
          ]
        },
        {
          "output_type": "display_data",
          "data": {
            "text/plain": [
              "<PIL.Image.Image image mode=L size=28x28 at 0x7FFA344D60A0>"
            ],
            "image/png": "[encoded data removed]"
          },
          "metadata": {}
        },
        {
          "output_type": "display_data",
          "data": {
            "text/plain": [
              "<PIL.Image.Image image mode=L size=28x28 at 0x7FFA345B1E80>"
            ],
            "image/png": "[encoded data removed]"
          },
          "metadata": {}
        },
        {
          "output_type": "display_data",
          "data": {
            "text/plain": [
              "<PIL.Image.Image image mode=L size=28x28 at 0x7FFA344D60A0>"
            ],
            "image/png": "[encoded data removed]"
          },
          "metadata": {}
        },
        {
          "output_type": "display_data",
          "data": {
            "text/plain": [
              "<PIL.Image.Image image mode=L size=28x28 at 0x7FFA344CBE50>"
            ],
            "image/png": "[encoded data removed]"
          },
          "metadata": {}
        },
        {
          "output_type": "display_data",
          "data": {
            "text/plain": [
              "<PIL.Image.Image image mode=L size=28x28 at 0x7FFA34702DF0>"
            ],
            "image/png": "[encoded data removed]"
          },
          "metadata": {}
        },
        {
          "output_type": "display_data",
          "data": {
            "text/plain": [
              "<PIL.Image.Image image mode=L size=28x28 at 0x7FFA346ED340>"
            ],
            "image/png": "[encoded data removed]"
          },
          "metadata": {}
        },
        {
          "output_type": "display_data",
          "data": {
            "text/plain": [
              "<PIL.Image.Image image mode=L size=28x28 at 0x7FFA3474B070>"
            ],
            "image/png": "[encoded data removed]"
          },
          "metadata": {}
        },
        {
          "output_type": "display_data",
          "data": {
            "text/plain": [
              "<PIL.Image.Image image mode=L size=28x28 at 0x7FFAB663F520>"
            ],
            "image/png": "[encoded data removed]"
          },
          "metadata": {}
        },
        {
          "output_type": "display_data",
          "data": {
            "text/plain": [
              "<PIL.Image.Image image mode=L size=28x28 at 0x7FFA3448ACD0>"
            ],
            "image/png": "[encoded data removed]"
          },
          "metadata": {}
        },
        {
          "output_type": "display_data",
          "data": {
            "text/plain": [
              "<PIL.Image.Image image mode=L size=28x28 at 0x7FFA34702DF0>"
            ],
            "image/png": "[encoded data removed]"
          },
          "metadata": {}
        },
        {
          "output_type": "stream",
          "name": "stdout",
          "text": [
            "epoch 6\n"
          ]
        },
        {
          "output_type": "display_data",
          "data": {
            "text/plain": [
              "<PIL.Image.Image image mode=L size=28x28 at 0x7FFA34443D30>"
            ],
            "image/png": "[encoded data removed]"
          },
          "metadata": {}
        },
        {
          "output_type": "display_data",
          "data": {
            "text/plain": [
              "<PIL.Image.Image image mode=L size=28x28 at 0x7FFA34443550>"
            ],
            "image/png": "[encoded data removed]"
          },
          "metadata": {}
        },
        {
          "output_type": "display_data",
          "data": {
            "text/plain": [
              "<PIL.Image.Image image mode=L size=28x28 at 0x7FFAB692BCA0>"
            ],
            "image/png": "[encoded data removed]"
          },
          "metadata": {}
        },
        {
          "output_type": "display_data",
          "data": {
            "text/plain": [
              "<PIL.Image.Image image mode=L size=28x28 at 0x7FFA4C3A4220>"
            ],
            "image/png": "[encoded data removed]"
          },
          "metadata": {}
        },
        {
          "output_type": "display_data",
          "data": {
            "text/plain": [
              "<PIL.Image.Image image mode=L size=28x28 at 0x7FFAB692BCA0>"
            ],
            "image/png": "[encoded data removed]"
          },
          "metadata": {}
        },
        {
          "output_type": "display_data",
          "data": {
            "text/plain": [
              "<PIL.Image.Image image mode=L size=28x28 at 0x7FFA4C3A4220>"
            ],
            "image/png": "[encoded data removed]"
          },
          "metadata": {}
        },
        {
          "output_type": "display_data",
          "data": {
            "text/plain": [
              "<PIL.Image.Image image mode=L size=28x28 at 0x7FFA4C3AD9D0>"
            ],
            "image/png": "[encoded data removed]"
          },
          "metadata": {}
        },
        {
          "output_type": "display_data",
          "data": {
            "text/plain": [
              "<PIL.Image.Image image mode=L size=28x28 at 0x7FFA344D60A0>"
            ],
            "image/png": "[encoded data removed]"
          },
          "metadata": {}
        },
        {
          "output_type": "display_data",
          "data": {
            "text/plain": [
              "<PIL.Image.Image image mode=L size=28x28 at 0x7FFAB692BCA0>"
            ],
            "image/png": "[encoded data removed]"
          },
          "metadata": {}
        },
        {
          "output_type": "display_data",
          "data": {
            "text/plain": [
              "<PIL.Image.Image image mode=L size=28x28 at 0x7FFA4C3A4220>"
            ],
            "image/png": "[encoded data removed]"
          },
          "metadata": {}
        },
        {
          "output_type": "stream",
          "name": "stdout",
          "text": [
            "epoch 7\n"
          ]
        },
        {
          "output_type": "display_data",
          "data": {
            "text/plain": [
              "<PIL.Image.Image image mode=L size=28x28 at 0x7FFA3467CAF0>"
            ],
            "image/png": "[encoded data removed]"
          },
          "metadata": {}
        },
        {
          "output_type": "display_data",
          "data": {
            "text/plain": [
              "<PIL.Image.Image image mode=L size=28x28 at 0x7FFA346F89A0>"
            ],
            "image/png": "[encoded data removed]"
          },
          "metadata": {}
        },
        {
          "output_type": "display_data",
          "data": {
            "text/plain": [
              "<PIL.Image.Image image mode=L size=28x28 at 0x7FFA346F8B50>"
            ],
            "image/png": "[encoded data removed]"
          },
          "metadata": {}
        },
        {
          "output_type": "display_data",
          "data": {
            "text/plain": [
              "<PIL.Image.Image image mode=L size=28x28 at 0x7FFA346F89A0>"
            ],
            "image/png": "[encoded data removed]"
          },
          "metadata": {}
        },
        {
          "output_type": "display_data",
          "data": {
            "text/plain": [
              "<PIL.Image.Image image mode=L size=28x28 at 0x7FFA346F8B50>"
            ],
            "image/png": "[encoded data removed]"
          },
          "metadata": {}
        },
        {
          "output_type": "display_data",
          "data": {
            "text/plain": [
              "<PIL.Image.Image image mode=L size=28x28 at 0x7FFA346F89A0>"
            ],
            "image/png": "[encoded data removed]"
          },
          "metadata": {}
        },
        {
          "output_type": "display_data",
          "data": {
            "text/plain": [
              "<PIL.Image.Image image mode=L size=28x28 at 0x7FFA346F8B50>"
            ],
            "image/png": "[encoded data removed]"
          },
          "metadata": {}
        },
        {
          "output_type": "display_data",
          "data": {
            "text/plain": [
              "<PIL.Image.Image image mode=L size=28x28 at 0x7FFA346F89A0>"
            ],
            "image/png": "[encoded data removed]"
          },
          "metadata": {}
        },
        {
          "output_type": "display_data",
          "data": {
            "text/plain": [
              "<PIL.Image.Image image mode=L size=28x28 at 0x7FFA346F8B50>"
            ],
            "image/png": "[encoded data removed]"
          },
          "metadata": {}
        },
        {
          "output_type": "display_data",
          "data": {
            "text/plain": [
              "<PIL.Image.Image image mode=L size=28x28 at 0x7FFA346F89A0>"
            ],
            "image/png": "[encoded data removed]"
          },
          "metadata": {}
        },
        {
          "output_type": "stream",
          "name": "stdout",
          "text": [
            "epoch 8\n"
          ]
        },
        {
          "output_type": "display_data",
          "data": {
            "text/plain": [
              "<PIL.Image.Image image mode=L size=28x28 at 0x7FFA345ACD00>"
            ],
            "image/png": "[encoded data removed]"
          },
          "metadata": {}
        },
        {
          "output_type": "display_data",
          "data": {
            "text/plain": [
              "<PIL.Image.Image image mode=L size=28x28 at 0x7FFA347671F0>"
            ],
            "image/png": "[encoded data removed]"
          },
          "metadata": {}
        },
        {
          "output_type": "display_data",
          "data": {
            "text/plain": [
              "<PIL.Image.Image image mode=L size=28x28 at 0x7FFA34702DF0>"
            ],
            "image/png": "[encoded data removed]"
          },
          "metadata": {}
        },
        {
          "output_type": "display_data",
          "data": {
            "text/plain": [
              "<PIL.Image.Image image mode=L size=28x28 at 0x7FFA344BE640>"
            ],
            "image/png": "[encoded data removed]"
          },
          "metadata": {}
        },
        {
          "output_type": "display_data",
          "data": {
            "text/plain": [
              "<PIL.Image.Image image mode=L size=28x28 at 0x7FFA34702E50>"
            ],
            "image/png": "[encoded data removed]"
          },
          "metadata": {}
        },
        {
          "output_type": "display_data",
          "data": {
            "text/plain": [
              "<PIL.Image.Image image mode=L size=28x28 at 0x7FFA344A4070>"
            ],
            "image/png": "[encoded data removed]"
          },
          "metadata": {}
        },
        {
          "output_type": "display_data",
          "data": {
            "text/plain": [
              "<PIL.Image.Image image mode=L size=28x28 at 0x7FFA344CBBE0>"
            ],
            "image/png": "[encoded data removed]"
          },
          "metadata": {}
        },
        {
          "output_type": "display_data",
          "data": {
            "text/plain": [
              "<PIL.Image.Image image mode=L size=28x28 at 0x7FFA34702DF0>"
            ],
            "image/png": "[encoded data removed]"
          },
          "metadata": {}
        },
        {
          "output_type": "display_data",
          "data": {
            "text/plain": [
              "<PIL.Image.Image image mode=L size=28x28 at 0x7FFA34767CA0>"
            ],
            "image/png": "[encoded data removed]"
          },
          "metadata": {}
        },
        {
          "output_type": "display_data",
          "data": {
            "text/plain": [
              "<PIL.Image.Image image mode=L size=28x28 at 0x7FFA346F8B50>"
            ],
            "image/png": "[encoded data removed]"
          },
          "metadata": {}
        },
        {
          "output_type": "stream",
          "name": "stdout",
          "text": [
            "epoch 9\n"
          ]
        },
        {
          "output_type": "display_data",
          "data": {
            "text/plain": [
              "<PIL.Image.Image image mode=L size=28x28 at 0x7FFA34702E50>"
            ],
            "image/png": "[encoded data removed]"
          },
          "metadata": {}
        },
        {
          "output_type": "display_data",
          "data": {
            "text/plain": [
              "<PIL.Image.Image image mode=L size=28x28 at 0x7FFA34547520>"
            ],
            "image/png": "[encoded data removed]"
          },
          "metadata": {}
        },
        {
          "output_type": "display_data",
          "data": {
            "text/plain": [
              "<PIL.Image.Image image mode=L size=28x28 at 0x7FFA346F8B50>"
            ],
            "image/png": "[encoded data removed]"
          },
          "metadata": {}
        },
        {
          "output_type": "display_data",
          "data": {
            "text/plain": [
              "<PIL.Image.Image image mode=L size=28x28 at 0x7FFA4C3AD9D0>"
            ],
            "image/png": "[encoded data removed]"
          },
          "metadata": {}
        },
        {
          "output_type": "display_data",
          "data": {
            "text/plain": [
              "<PIL.Image.Image image mode=L size=28x28 at 0x7FFA346F8B50>"
            ],
            "image/png": "[encoded data removed]"
          },
          "metadata": {}
        },
        {
          "output_type": "display_data",
          "data": {
            "text/plain": [
              "<PIL.Image.Image image mode=L size=28x28 at 0x7FFA34457F70>"
            ],
            "image/png": "[encoded data removed]"
          },
          "metadata": {}
        },
        {
          "output_type": "display_data",
          "data": {
            "text/plain": [
              "<PIL.Image.Image image mode=L size=28x28 at 0x7FFA34500D30>"
            ],
            "image/png": "[encoded data removed]"
          },
          "metadata": {}
        },
        {
          "output_type": "display_data",
          "data": {
            "text/plain": [
              "<PIL.Image.Image image mode=L size=28x28 at 0x7FFA347676A0>"
            ],
            "image/png": "[encoded data removed]"
          },
          "metadata": {}
        },
        {
          "output_type": "display_data",
          "data": {
            "text/plain": [
              "<PIL.Image.Image image mode=L size=28x28 at 0x7FFA346F8B50>"
            ],
            "image/png": "[encoded data removed]"
          },
          "metadata": {}
        },
        {
          "output_type": "display_data",
          "data": {
            "text/plain": [
              "<PIL.Image.Image image mode=L size=28x28 at 0x7FFA346C1C70>"
            ],
            "image/png": "[encoded data removed]"
          },
          "metadata": {}
        },
        {
          "output_type": "execute_result",
          "data": {
            "text/plain": [
              "<keras.callbacks.History at 0x7ffa346f8d30>"
            ]
          },
          "metadata": {},
          "execution_count": 13
        }
      ]
    }
  ],
  "metadata": {
    "accelerator": "GPU",
    "colab": {
      "provenance": []
    },
    "kernelspec": {
      "display_name": "Python 3 (ipykernel)",
      "language": "python",
      "name": "python3"
    },
    "language_info": {
      "codemirror_mode": {
        "name": "ipython",
        "version": 3
      },
      "file_extension": ".py",
      "mimetype": "text/x-python",
      "name": "python",
      "nbconvert_exporter": "python",
      "pygments_lexer": "ipython3",
      "version": "3.8.13"
    }
  },
  "nbformat": 4,
  "nbformat_minor": 0
}